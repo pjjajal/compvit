{
 "cells": [
  {
   "cell_type": "code",
   "execution_count": 29,
   "metadata": {},
   "outputs": [],
   "source": [
    "import torch\n",
    "import torch.nn as nn\n",
    "from factory import convnext_factory\n",
    "from torch.utils.data import DataLoader\n",
    "from tqdm import tqdm\n",
    "\n",
    "from datasets import create_imagenet_dataset\n",
    "import torchvision\n",
    "import torchvision.transforms as tvt\n",
    "from torchvision.datasets import ImageNet\n",
    "import itertools\n",
    "\n",
    "import pandas as pd"
   ]
  },
  {
   "cell_type": "code",
   "execution_count": 25,
   "metadata": {},
   "outputs": [],
   "source": [
    "def evaluate(testloader, model, image_xform=None):\n",
    "    correct = 0\n",
    "    total = 0\n",
    "    model = model.eval()\n",
    "    with torch.no_grad():\n",
    "        for data in tqdm(testloader):\n",
    "            images, labels = data\n",
    "            images = images.to(\"cuda\")\n",
    "            if image_xform:\n",
    "                images = image_xform(images)\n",
    "            labels = labels.to(\"cuda\")\n",
    "\n",
    "            outputs = model(images)\n",
    "\n",
    "            _, predicted = torch.max(outputs.data, 1)\n",
    "            total += labels.size(0)\n",
    "            correct += (predicted == labels).sum().item()\n",
    "\n",
    "    return correct / total"
   ]
  },
  {
   "cell_type": "code",
   "execution_count": 26,
   "metadata": {},
   "outputs": [],
   "source": [
    "val_dataset = create_imagenet_dataset(\"val\", data_dir=\"E:\\datasets\\imagenet\", eval_transform=torchvision.models.ConvNeXt_Tiny_Weights.IMAGENET1K_V1.transforms())\n",
    "val_dataloader = DataLoader(val_dataset, batch_size=64, num_workers=4)"
   ]
  },
  {
   "cell_type": "code",
   "execution_count": 27,
   "metadata": {},
   "outputs": [
    {
     "name": "stderr",
     "output_type": "stream",
     "text": [
      "c:\\Users\\jajal\\anaconda3\\lib\\site-packages\\torchvision\\models\\_utils.py:223: UserWarning: Arguments other than a weight enum or `None` for 'weights' are deprecated since 0.13 and may be removed in the future. The current behavior is equivalent to passing `weights=ConvNeXt_Tiny_Weights.IMAGENET1K_V1`. You can also use `weights=ConvNeXt_Tiny_Weights.DEFAULT` to get the most up-to-date weights.\n",
      "  warnings.warn(msg)\n"
     ]
    }
   ],
   "source": [
    "model, cfg = convnext_factory(\"convnext_tiny\", weights=True)\n",
    "model = model.to('cuda')"
   ]
  },
  {
   "cell_type": "markdown",
   "metadata": {},
   "source": [
    "# Goal: Measure the effect of transforms on the quality of predictions, i.e., this is a proxy for I(Y; F).\n",
    "## Subgoal: Measure the effect of transforms on the I(X;F), we proxy this with reconstruction loss.\n",
    "\n",
    "# Experimental Setup\n",
    "\n",
    "## Models\n",
    "- convnext_tiny\n",
    "- convnext_small\n",
    "- convnext_base\n",
    "- convnext_large\n",
    "\n",
    "## Transforms\n",
    "- Image Size\n",
    "    - [32, 32]\n",
    "    - [64, 64]\n",
    "    - [96, 96]\n",
    "    - [128, 128]\n",
    "    - [160, 160]\n",
    "    - [192, 192]\n",
    "    - [224, 224]\n",
    "\n",
    "## Measurements\n",
    "- Test Accuracy"
   ]
  },
  {
   "cell_type": "code",
   "execution_count": 35,
   "metadata": {},
   "outputs": [
    {
     "name": "stderr",
     "output_type": "stream",
     "text": [
      "c:\\Users\\jajal\\anaconda3\\lib\\site-packages\\torchvision\\models\\_utils.py:223: UserWarning: Arguments other than a weight enum or `None` for 'weights' are deprecated since 0.13 and may be removed in the future. The current behavior is equivalent to passing `weights=ConvNeXt_Tiny_Weights.IMAGENET1K_V1`. You can also use `weights=ConvNeXt_Tiny_Weights.DEFAULT` to get the most up-to-date weights.\n",
      "  warnings.warn(msg)\n",
      "100%|██████████| 782/782 [01:16<00:00, 10.27it/s]\n",
      "c:\\Users\\jajal\\anaconda3\\lib\\site-packages\\torchvision\\models\\_utils.py:223: UserWarning: Arguments other than a weight enum or `None` for 'weights' are deprecated since 0.13 and may be removed in the future. The current behavior is equivalent to passing `weights=ConvNeXt_Small_Weights.IMAGENET1K_V1`. You can also use `weights=ConvNeXt_Small_Weights.DEFAULT` to get the most up-to-date weights.\n",
      "  warnings.warn(msg)\n",
      "100%|██████████| 782/782 [01:46<00:00,  7.33it/s]\n",
      "c:\\Users\\jajal\\anaconda3\\lib\\site-packages\\torchvision\\models\\_utils.py:223: UserWarning: Arguments other than a weight enum or `None` for 'weights' are deprecated since 0.13 and may be removed in the future. The current behavior is equivalent to passing `weights=ConvNeXt_Base_Weights.IMAGENET1K_V1`. You can also use `weights=ConvNeXt_Base_Weights.DEFAULT` to get the most up-to-date weights.\n",
      "  warnings.warn(msg)\n",
      "100%|██████████| 782/782 [02:28<00:00,  5.28it/s]\n",
      "c:\\Users\\jajal\\anaconda3\\lib\\site-packages\\torchvision\\models\\_utils.py:223: UserWarning: Arguments other than a weight enum or `None` for 'weights' are deprecated since 0.13 and may be removed in the future. The current behavior is equivalent to passing `weights=ConvNeXt_Large_Weights.IMAGENET1K_V1`. You can also use `weights=ConvNeXt_Large_Weights.DEFAULT` to get the most up-to-date weights.\n",
      "  warnings.warn(msg)\n",
      "100%|██████████| 782/782 [04:18<00:00,  3.03it/s]\n",
      "100%|██████████| 782/782 [01:31<00:00,  8.57it/s]\n",
      "100%|██████████| 782/782 [02:21<00:00,  5.54it/s]\n",
      "100%|██████████| 782/782 [03:13<00:00,  4.04it/s]\n",
      "100%|██████████| 782/782 [05:34<00:00,  2.33it/s]\n",
      "100%|██████████| 782/782 [01:50<00:00,  7.08it/s]\n",
      "100%|██████████| 782/782 [02:44<00:00,  4.77it/s]\n",
      "100%|██████████| 782/782 [03:53<00:00,  3.35it/s]\n",
      "100%|██████████| 782/782 [06:54<00:00,  1.89it/s]\n",
      "100%|██████████| 782/782 [02:09<00:00,  6.04it/s]\n",
      "100%|██████████| 782/782 [03:17<00:00,  3.96it/s]\n",
      "100%|██████████| 782/782 [04:43<00:00,  2.76it/s]\n",
      "100%|██████████| 782/782 [08:23<00:00,  1.55it/s]\n",
      "100%|██████████| 782/782 [02:32<00:00,  5.14it/s]\n",
      "100%|██████████| 782/782 [03:55<00:00,  3.32it/s]\n",
      "100%|██████████| 782/782 [05:37<00:00,  2.31it/s]\n",
      "100%|██████████| 782/782 [1:01:37<00:00,  4.73s/it]\n"
     ]
    }
   ],
   "source": [
    "resize_sizes = range(224, 352 + 1, 32)\n",
    "model_names = [\"convnext_tiny\", \"convnext_small\", \"convnext_base\", \"convnext_large\"]\n",
    "\n",
    "data = {model_name: {} for model_name in model_names}\n",
    "for resize_shape, model_name in itertools.product(resize_sizes, model_names):\n",
    "    model, cfg = convnext_factory(model_name, weights=True)\n",
    "    model = model.to('cuda')\n",
    "    image_xform = tvt.Resize(resize_shape)\n",
    "    accuracy = evaluate(val_dataloader, model, image_xform)\n",
    "    data[model_name][resize_shape] = accuracy"
   ]
  },
  {
   "cell_type": "code",
   "execution_count": 52,
   "metadata": {},
   "outputs": [],
   "source": [
    "data = torch.load(\"resize_convnext_experiment.pth\")"
   ]
  },
  {
   "cell_type": "code",
   "execution_count": 53,
   "metadata": {},
   "outputs": [
    {
     "data": {
      "text/plain": [
       "{'convnext_tiny': {32: 0.11702,\n",
       "  64: 0.49904,\n",
       "  96: 0.70136,\n",
       "  128: 0.7736,\n",
       "  160: 0.80256,\n",
       "  192: 0.81442,\n",
       "  224: 0.82522,\n",
       "  256: 0.81684,\n",
       "  288: 0.81096,\n",
       "  320: 0.80274,\n",
       "  352: 0.78764},\n",
       " 'convnext_small': {32: 0.14916,\n",
       "  64: 0.5548,\n",
       "  96: 0.7324,\n",
       "  128: 0.79068,\n",
       "  160: 0.81454,\n",
       "  192: 0.82482,\n",
       "  224: 0.83472,\n",
       "  256: 0.82858,\n",
       "  288: 0.82486,\n",
       "  320: 0.81964,\n",
       "  352: 0.80838},\n",
       " 'convnext_base': {32: 0.15782,\n",
       "  64: 0.57236,\n",
       "  96: 0.74326,\n",
       "  128: 0.79888,\n",
       "  160: 0.82174,\n",
       "  192: 0.82982,\n",
       "  224: 0.8392,\n",
       "  256: 0.83466,\n",
       "  288: 0.83014,\n",
       "  320: 0.82706,\n",
       "  352: 0.81952},\n",
       " 'convnext_large': {32: 0.17308,\n",
       "  64: 0.59838,\n",
       "  96: 0.75824,\n",
       "  128: 0.80782,\n",
       "  160: 0.8273,\n",
       "  192: 0.83542,\n",
       "  224: 0.8435,\n",
       "  256: 0.8368,\n",
       "  288: 0.83458,\n",
       "  320: 0.82884,\n",
       "  352: 0.8215}}"
      ]
     },
     "execution_count": 53,
     "metadata": {},
     "output_type": "execute_result"
    }
   ],
   "source": [
    "data"
   ]
  },
  {
   "cell_type": "code",
   "execution_count": 54,
   "metadata": {},
   "outputs": [
    {
     "data": {
      "text/plain": [
       "<Axes: >"
      ]
     },
     "execution_count": 54,
     "metadata": {},
     "output_type": "execute_result"
    },
    {
     "data": {
      "image/png": "[encoded data removed]",
      "text/plain": [
       "<Figure size 640x480 with 1 Axes>"
      ]
     },
     "metadata": {},
     "output_type": "display_data"
    }
   ],
   "source": [
    "df = pd.DataFrame(data)\n",
    "df.plot()"
   ]
  },
  {
   "cell_type": "code",
   "execution_count": null,
   "metadata": {},
   "outputs": [],
   "source": []
  }
 ],
 "metadata": {
  "kernelspec": {
   "display_name": "base",
   "language": "python",
   "name": "python3"
  },
  "language_info": {
   "codemirror_mode": {
    "name": "ipython",
    "version": 3
   },
   "file_extension": ".py",
   "mimetype": "text/x-python",
   "name": "python",
   "nbconvert_exporter": "python",
   "pygments_lexer": "ipython3",
   "version": "3.10.9"
  }
 },
 "nbformat": 4,
 "nbformat_minor": 2
}
